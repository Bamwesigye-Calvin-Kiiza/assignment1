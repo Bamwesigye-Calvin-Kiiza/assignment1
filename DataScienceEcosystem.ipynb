{
 "cells": [
  {
   "cell_type": "markdown",
   "id": "4246bc36",
   "metadata": {},
   "source": [
    "# Data Science Tools and Ecosystem"
   ]
  },
  {
   "cell_type": "markdown",
   "id": "67d4c878",
   "metadata": {},
   "source": [
    "In this notebook, Data Science Tools and Ecosystem are summarized."
   ]
  },
  {
   "cell_type": "markdown",
   "id": "47a15c0a",
   "metadata": {},
   "source": [
    "Some of the popular languages that Data Scientists use are:\n",
    "1. **Python**: Python is one of the most popular and versatile programming languages for data science. It offers a wide range of libraries and frameworks for data analysis, machine learning, and data visualization.\n",
    "\n",
    "2. **R**: R is a language specifically designed for statistical analysis and data visualization. It is widely used by statisticians and researchers for its powerful statistical capabilities.\n",
    "\n",
    "3. **SQL (Structured Query Language)**: SQL is essential for working with relational databases in data science. Data scientists use SQL to retrieve, manipulate, and analyze data stored in databases.\n",
    "\n",
    "4. **Scala**: Scala, often used with Apache Spark, is a language that provides scalability and distributed computing capabilities, making it suitable for handling big data and large-scale data processing tasks.\n"
   ]
  },
  {
   "cell_type": "markdown",
   "id": "04586ef7",
   "metadata": {},
   "source": [
    "**Objectives:** \n",
    "- List popular languages for Data Science.\n",
    "- Explore commonly used data science libraries in Python.\n",
    "- list data science tools\n",
    "- evaluating arithmetic expressiions in python"
   ]
  },
  {
   "cell_type": "markdown",
   "id": "dca0099d",
   "metadata": {},
   "source": [
    "Some of the commonly used libraries used by Data Scientists include:\n",
    "1. **pandas**\n",
    "2. **numpy**\n",
    "3. **matplotlib**\n",
    "4. **seaborn**\n",
    "5. **sklearn**\n",
    "6. **keras**\n",
    "7. **tensorflow**\n"
   ]
  },
  {
   "cell_type": "markdown",
   "id": "c9185fe2",
   "metadata": {},
   "source": [
    "### Data Science Tools\n",
    "\n",
    "| Data Science Tools       |\n",
    "|-------------------------|\n",
    "| Jupyter Notebook        |\n",
    "| RStudio                 |\n",
    "| Visual Studio Code (VSCode) |\n",
    "\n"
   ]
  },
  {
   "cell_type": "markdown",
   "id": "44819561",
   "metadata": {},
   "source": [
    "### Below are a few examples of evaluating arithmetic expressions in Python"
   ]
  },
  {
   "cell_type": "code",
   "execution_count": 1,
   "id": "544e2cfc",
   "metadata": {},
   "outputs": [
    {
     "data": {
      "text/plain": [
       "17"
      ]
     },
     "execution_count": 1,
     "metadata": {},
     "output_type": "execute_result"
    }
   ],
   "source": [
    "(3*4)+5\n",
    "# This a simple arithmetic expression to mutiply then add integers"
   ]
  },
  {
   "cell_type": "code",
   "execution_count": 4,
   "id": "f77e258f",
   "metadata": {},
   "outputs": [
    {
     "data": {
      "text/plain": [
       "3.33"
      ]
     },
     "execution_count": 4,
     "metadata": {},
     "output_type": "execute_result"
    }
   ],
   "source": [
    "hours  = (200/60).__round__(2)\n",
    "#  This will convert 200 minutes to hours by diving by 60\n",
    "hours"
   ]
  },
  {
   "cell_type": "markdown",
   "id": "0e78db69",
   "metadata": {},
   "source": [
    "## Author\n",
    "Kiiza Calvin Bamwesigye"
   ]
  },
  {
   "cell_type": "code",
   "execution_count": null,
   "id": "7e74c30b",
   "metadata": {},
   "outputs": [],
   "source": []
  }
 ],
 "metadata": {
  "kernelspec": {
   "display_name": "Python 3 (ipykernel)",
   "language": "python",
   "name": "python3"
  },
  "language_info": {
   "codemirror_mode": {
    "name": "ipython",
    "version": 3
   },
   "file_extension": ".py",
   "mimetype": "text/x-python",
   "name": "python",
   "nbconvert_exporter": "python",
   "pygments_lexer": "ipython3",
   "version": "3.11.3"
  }
 },
 "nbformat": 4,
 "nbformat_minor": 5
}
